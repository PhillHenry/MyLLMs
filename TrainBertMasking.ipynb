{
 "cells": [
  {
   "cell_type": "code",
   "id": "initial_id",
   "metadata": {
    "collapsed": true,
    "ExecuteTime": {
     "end_time": "2025-05-07T10:42:45.084493Z",
     "start_time": "2025-05-07T10:42:43.689197Z"
    }
   },
   "source": [
    "import comet_ml\n",
    "from config import SAVED_MODEL\n",
    "\n",
    "comet_ml.init(api_key=\"wfYwSiDlqTHVyTWHjAuT6qI0P\")\n",
    "\n",
    "from transformers import BertTokenizer, BertForSequenceClassification\n",
    "from transformers import pipeline, BertForMaskedLM, BertTokenizer\n",
    "from transformers import BertModel\n",
    "from datasets import load_dataset\n",
    "\n",
    "from torch.utils.data import DataLoader\n",
    "\n",
    "from transformers import Trainer, TrainingArguments\n",
    "from datetime import datetime\n"
   ],
   "outputs": [
    {
     "name": "stderr",
     "output_type": "stream",
     "text": [
      "\u001B[1;38;5;214mCOMET WARNING:\u001B[0m comet_ml.init() is deprecated and will be removed soon. Please use comet_ml.login()\n",
      "\u001B[1;38;5;39mCOMET INFO:\u001B[0m Valid Comet API Key saved in /home/henryp/.comet.config (set COMET_CONFIG to change where it is saved).\n"
     ]
    }
   ],
   "execution_count": 3
  },
  {
   "metadata": {},
   "cell_type": "markdown",
   "source": "Model",
   "id": "d2abb8e6dfeb78b2"
  },
  {
   "metadata": {
    "ExecuteTime": {
     "end_time": "2025-05-07T10:42:47.795028Z",
     "start_time": "2025-05-07T10:42:47.041126Z"
    }
   },
   "cell_type": "code",
   "source": [
    "model_name = 'bert-base-uncased'\n",
    "tokenizer = BertTokenizer.from_pretrained(model_name)\n",
    "model = BertForMaskedLM.from_pretrained(model_name)\n",
    "# model = BertModel.from_pretrained(model_name)"
   ],
   "id": "202484019870537",
   "outputs": [
    {
     "name": "stderr",
     "output_type": "stream",
     "text": [
      "BertForMaskedLM has generative capabilities, as `prepare_inputs_for_generation` is explicitly overwritten. However, it doesn't directly inherit from `GenerationMixin`. From 👉v4.50👈 onwards, `PreTrainedModel` will NOT inherit from `GenerationMixin`, and this model will lose the ability to call `generate` and other related functions.\n",
      "  - If you're using `trust_remote_code=True`, you can get rid of this warning by loading the model with an auto class. See https://huggingface.co/docs/transformers/en/model_doc/auto#auto-classes\n",
      "  - If you are the owner of the model architecture code, please modify your model class such that it inherits from `GenerationMixin` (after `PreTrainedModel`, otherwise you'll get an exception).\n",
      "  - If you are not the owner of the model architecture class, please contact the model code owner to update it.\n",
      "Some weights of the model checkpoint at bert-base-uncased were not used when initializing BertForMaskedLM: ['bert.pooler.dense.bias', 'bert.pooler.dense.weight', 'cls.seq_relationship.bias', 'cls.seq_relationship.weight']\n",
      "- This IS expected if you are initializing BertForMaskedLM from the checkpoint of a model trained on another task or with another architecture (e.g. initializing a BertForSequenceClassification model from a BertForPreTraining model).\n",
      "- This IS NOT expected if you are initializing BertForMaskedLM from the checkpoint of a model that you expect to be exactly identical (initializing a BertForSequenceClassification model from a BertForSequenceClassification model).\n"
     ]
    }
   ],
   "execution_count": 4
  },
  {
   "metadata": {},
   "cell_type": "markdown",
   "source": "Data\n",
   "id": "87227b8e27a278a7"
  },
  {
   "metadata": {
    "ExecuteTime": {
     "end_time": "2025-05-07T10:43:00.391537Z",
     "start_time": "2025-05-07T10:42:54.554308Z"
    }
   },
   "cell_type": "code",
   "source": [
    "dataset = load_dataset(\"imdb\")  # or your own dataset\n",
    "def tokenize(batch):\n",
    "    return tokenizer(batch['text'], padding=True, truncation=True)\n",
    "\n",
    "tokenized_dataset = dataset.map(tokenize, batched=True)\n",
    "tokenized_dataset = tokenized_dataset.rename_column(\"label\", \"labels\")  # required by HF\n",
    "tokenized_dataset.set_format('torch', columns=['input_ids', 'attention_mask', 'labels'])"
   ],
   "id": "d755910c59c74794",
   "outputs": [],
   "execution_count": 5
  },
  {
   "metadata": {
    "jupyter": {
     "is_executing": true
    },
    "ExecuteTime": {
     "start_time": "2025-05-07T10:43:46.734521Z"
    }
   },
   "cell_type": "code",
   "source": [
    "from transformers import DataCollatorForLanguageModeling\n",
    "\n",
    "data_collator = DataCollatorForLanguageModeling(\n",
    "    tokenizer=tokenizer,\n",
    "    mlm=True,\n",
    "    mlm_probability=0.15\n",
    ")\n",
    "\n",
    "train_loader = DataLoader(tokenized_dataset['train'], batch_size=8, shuffle=True)\n",
    "val_loader = DataLoader(tokenized_dataset['test'], batch_size=8)\n",
    "\n",
    "training_args = TrainingArguments(\n",
    "    output_dir='./results',\n",
    "    evaluation_strategy=\"epoch\",\n",
    "    per_device_train_batch_size=8,\n",
    "    per_device_eval_batch_size=8,\n",
    "    num_train_epochs=1,\n",
    "    logging_dir='./logs',\n",
    "    report_to=\"comet_ml\",\n",
    ")\n",
    "\n",
    "trainer = Trainer(\n",
    "    model=model,\n",
    "    args=training_args,\n",
    "    train_dataset=tokenized_dataset['train'],\n",
    "    eval_dataset=tokenized_dataset['test'],\n",
    "    data_collator=data_collator,\n",
    ")\n",
    "\n",
    "timestamp = datetime.now().strftime('%y%m%d%H%M')\n",
    "model_path = f\"{SAVED_MODEL}/{timestamp}/{model_name}\"\n",
    "print(f\"Will train model and save it to {model_path}\")\n",
    "trainer.train()"
   ],
   "id": "938a681065d033b1",
   "outputs": [
    {
     "name": "stderr",
     "output_type": "stream",
     "text": [
      "/home/henryp/venv/llms/lib/python3.10/site-packages/transformers/training_args.py:1575: FutureWarning: `evaluation_strategy` is deprecated and will be removed in version 4.46 of 🤗 Transformers. Use `eval_strategy` instead\n",
      "  warnings.warn(\n",
      "\u001B[1;38;5;214mCOMET WARNING:\u001B[0m To get all data logged automatically, import comet_ml before the following modules: sklearn, torch, keras, tensorflow.\n",
      "\u001B[1;38;5;214mCOMET WARNING:\u001B[0m As you are running in a Jupyter environment, you will need to call `experiment.end()` when finished to ensure all metrics and code are logged before exiting.\n"
     ]
    },
    {
     "name": "stdout",
     "output_type": "stream",
     "text": [
      "Will train model and save it to ./saved_model/2505071143/bert-base-uncased\n"
     ]
    },
    {
     "name": "stderr",
     "output_type": "stream",
     "text": [
      "\u001B[1;38;5;39mCOMET INFO:\u001B[0m Experiment is live on comet.com https://www.comet.com/phillhenry/general/f3f125fa11e34b3fbb41948b4a398fd7\n",
      "\n"
     ]
    }
   ],
   "execution_count": null
  },
  {
   "metadata": {},
   "cell_type": "code",
   "outputs": [],
   "execution_count": null,
   "source": [
    "#model_path = f\"{MyLlamaModel.base_output_dir}/{model_name}\"\n",
    "\n",
    "model.save_pretrained(model_path)\n",
    "tokenizer.save_pretrained(f\"{model_path}_tokenizer\")\n",
    "tokenizer.save_vocabulary(f\"{model_path}_vocab\")\n",
    "#model.save_pretrained_merged(model_path, tokenizer=tokenizer) # merged_4bit_forced\n",
    "print(\"finished\")"
   ],
   "id": "2579b55e9af9cbbb"
  },
  {
   "metadata": {},
   "cell_type": "code",
   "outputs": [],
   "execution_count": null,
   "source": [
    "unmasker = pipeline('fill-mask', model=model)\n",
    "print(unmasker(\"Hello I'm a [MASK] model.\"))"
   ],
   "id": "cc7210875cfcbb03"
  }
 ],
 "metadata": {
  "kernelspec": {
   "display_name": "Python 3",
   "language": "python",
   "name": "python3"
  },
  "language_info": {
   "codemirror_mode": {
    "name": "ipython",
    "version": 2
   },
   "file_extension": ".py",
   "mimetype": "text/x-python",
   "name": "python",
   "nbconvert_exporter": "python",
   "pygments_lexer": "ipython2",
   "version": "2.7.6"
  }
 },
 "nbformat": 4,
 "nbformat_minor": 5
}
